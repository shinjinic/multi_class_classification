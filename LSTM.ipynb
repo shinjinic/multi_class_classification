{
 "cells": [
  {
   "cell_type": "code",
   "execution_count": 1,
   "metadata": {},
   "outputs": [],
   "source": [
    "import pandas as pd\n",
    "import numpy as np\n",
    "from keras.layers import LSTM, Activation, Dropout, Dense, Input\n",
    "from keras.layers.embeddings import Embedding\n",
    "from keras.models import Model\n",
    "import string\n",
    "import re\n",
    "from keras.preprocessing.text import Tokenizer\n",
    "from keras.preprocessing.sequence import pad_sequences\n",
    "import keras\n"
   ]
  },
  {
   "cell_type": "code",
   "execution_count": null,
   "metadata": {},
   "outputs": [],
   "source": []
  },
  {
   "cell_type": "code",
   "execution_count": 3,
   "metadata": {},
   "outputs": [],
   "source": [
    "df=pd.read_csv(\"train.csv\",header=None)"
   ]
  },
  {
   "cell_type": "code",
   "execution_count": null,
   "metadata": {},
   "outputs": [],
   "source": []
  },
  {
   "cell_type": "code",
   "execution_count": 4,
   "metadata": {},
   "outputs": [
    {
     "data": {
      "text/html": [
       "<div>\n",
       "<style scoped>\n",
       "    .dataframe tbody tr th:only-of-type {\n",
       "        vertical-align: middle;\n",
       "    }\n",
       "\n",
       "    .dataframe tbody tr th {\n",
       "        vertical-align: top;\n",
       "    }\n",
       "\n",
       "    .dataframe thead th {\n",
       "        text-align: right;\n",
       "    }\n",
       "</style>\n",
       "<table border=\"1\" class=\"dataframe\">\n",
       "  <thead>\n",
       "    <tr style=\"text-align: right;\">\n",
       "      <th></th>\n",
       "      <th>0</th>\n",
       "      <th>1</th>\n",
       "      <th>2</th>\n",
       "    </tr>\n",
       "  </thead>\n",
       "  <tbody>\n",
       "    <tr>\n",
       "      <th>0</th>\n",
       "      <td>3</td>\n",
       "      <td>more like funchuck</td>\n",
       "      <td>Gave this to my dad for a gag gift after direc...</td>\n",
       "    </tr>\n",
       "    <tr>\n",
       "      <th>1</th>\n",
       "      <td>5</td>\n",
       "      <td>Inspiring</td>\n",
       "      <td>I hope a lot of people hear this cd. We need m...</td>\n",
       "    </tr>\n",
       "    <tr>\n",
       "      <th>2</th>\n",
       "      <td>5</td>\n",
       "      <td>The best soundtrack ever to anything.</td>\n",
       "      <td>I'm reading a lot of reviews saying that this ...</td>\n",
       "    </tr>\n",
       "    <tr>\n",
       "      <th>3</th>\n",
       "      <td>4</td>\n",
       "      <td>Chrono Cross OST</td>\n",
       "      <td>The music of Yasunori Misuda is without questi...</td>\n",
       "    </tr>\n",
       "    <tr>\n",
       "      <th>4</th>\n",
       "      <td>5</td>\n",
       "      <td>Too good to be true</td>\n",
       "      <td>Probably the greatest soundtrack in history! U...</td>\n",
       "    </tr>\n",
       "  </tbody>\n",
       "</table>\n",
       "</div>"
      ],
      "text/plain": [
       "   0                                      1  \\\n",
       "0  3                     more like funchuck   \n",
       "1  5                              Inspiring   \n",
       "2  5  The best soundtrack ever to anything.   \n",
       "3  4                       Chrono Cross OST   \n",
       "4  5                    Too good to be true   \n",
       "\n",
       "                                                   2  \n",
       "0  Gave this to my dad for a gag gift after direc...  \n",
       "1  I hope a lot of people hear this cd. We need m...  \n",
       "2  I'm reading a lot of reviews saying that this ...  \n",
       "3  The music of Yasunori Misuda is without questi...  \n",
       "4  Probably the greatest soundtrack in history! U...  "
      ]
     },
     "execution_count": 4,
     "metadata": {},
     "output_type": "execute_result"
    }
   ],
   "source": [
    "df.head()"
   ]
  },
  {
   "cell_type": "code",
   "execution_count": 5,
   "metadata": {},
   "outputs": [],
   "source": [
    "df.columns=['Rating','ReviewTitle','Review']"
   ]
  },
  {
   "cell_type": "code",
   "execution_count": 6,
   "metadata": {},
   "outputs": [],
   "source": [
    "df1=df[df.Rating==1].head(2000)\n",
    "df2=df[df.Rating==2].head(2000)\n",
    "df3=df[df.Rating==3].head(2000)\n",
    "df4=df[df.Rating==4].head(2000)\n",
    "df5=df[df.Rating==5].head(2000)"
   ]
  },
  {
   "cell_type": "code",
   "execution_count": 7,
   "metadata": {},
   "outputs": [],
   "source": [
    "df=df1.append([df2,df3,df4,df5])"
   ]
  },
  {
   "cell_type": "code",
   "execution_count": 8,
   "metadata": {},
   "outputs": [
    {
     "data": {
      "text/plain": [
       "5    2000\n",
       "4    2000\n",
       "3    2000\n",
       "2    2000\n",
       "1    2000\n",
       "Name: Rating, dtype: int64"
      ]
     },
     "execution_count": 8,
     "metadata": {},
     "output_type": "execute_result"
    }
   ],
   "source": [
    "df.Rating.value_counts()"
   ]
  },
  {
   "cell_type": "code",
   "execution_count": 9,
   "metadata": {},
   "outputs": [],
   "source": [
    "df=df.reset_index(drop=True)"
   ]
  },
  {
   "cell_type": "code",
   "execution_count": 10,
   "metadata": {},
   "outputs": [],
   "source": [
    "def markings(x):\n",
    "    if x==5:\n",
    "        y=0\n",
    "    else:\n",
    "        y=1\n",
    "    return y "
   ]
  },
  {
   "cell_type": "code",
   "execution_count": 11,
   "metadata": {},
   "outputs": [],
   "source": [
    "#df.Rating=df.Rating.apply(lambda x:markings(x))"
   ]
  },
  {
   "cell_type": "code",
   "execution_count": 12,
   "metadata": {},
   "outputs": [
    {
     "data": {
      "text/plain": [
       "5    2000\n",
       "4    2000\n",
       "3    2000\n",
       "2    2000\n",
       "1    2000\n",
       "Name: Rating, dtype: int64"
      ]
     },
     "execution_count": 12,
     "metadata": {},
     "output_type": "execute_result"
    }
   ],
   "source": [
    "df.Rating.value_counts()"
   ]
  },
  {
   "cell_type": "code",
   "execution_count": 13,
   "metadata": {},
   "outputs": [],
   "source": [
    "df.to_csv(\"traindata.csv\",index=False)"
   ]
  },
  {
   "cell_type": "code",
   "execution_count": 2,
   "metadata": {},
   "outputs": [],
   "source": [
    "df=pd.read_csv(\"traindata.csv\")"
   ]
  },
  {
   "cell_type": "code",
   "execution_count": 3,
   "metadata": {},
   "outputs": [],
   "source": [
    "import nltk\n",
    "\n",
    "\n",
    "from nltk.corpus import stopwords\n",
    "stopwords=set(stopwords.words('english'))"
   ]
  },
  {
   "cell_type": "code",
   "execution_count": 4,
   "metadata": {},
   "outputs": [],
   "source": [
    "def remove_stopwords(data):\n",
    "  data['review without stopwords'] = data['Review'].apply(lambda x : ' '.join([word for word in x.split() if word not in (stopwords)]))\n",
    "  return data\n",
    "\n",
    "def remove_tags(string):\n",
    "    result = re.sub('<.*?>','',string)\n",
    "    return result"
   ]
  },
  {
   "cell_type": "code",
   "execution_count": 5,
   "metadata": {},
   "outputs": [],
   "source": [
    "df['Review'] = df['Review'].str.lower()\n"
   ]
  },
  {
   "cell_type": "code",
   "execution_count": 6,
   "metadata": {},
   "outputs": [],
   "source": [
    "data_without_stopwords = remove_stopwords(df)\n"
   ]
  },
  {
   "cell_type": "code",
   "execution_count": 7,
   "metadata": {},
   "outputs": [
    {
     "data": {
      "text/html": [
       "<div>\n",
       "<style scoped>\n",
       "    .dataframe tbody tr th:only-of-type {\n",
       "        vertical-align: middle;\n",
       "    }\n",
       "\n",
       "    .dataframe tbody tr th {\n",
       "        vertical-align: top;\n",
       "    }\n",
       "\n",
       "    .dataframe thead th {\n",
       "        text-align: right;\n",
       "    }\n",
       "</style>\n",
       "<table border=\"1\" class=\"dataframe\">\n",
       "  <thead>\n",
       "    <tr style=\"text-align: right;\">\n",
       "      <th></th>\n",
       "      <th>Rating</th>\n",
       "      <th>ReviewTitle</th>\n",
       "      <th>Review</th>\n",
       "      <th>review without stopwords</th>\n",
       "    </tr>\n",
       "  </thead>\n",
       "  <tbody>\n",
       "    <tr>\n",
       "      <th>0</th>\n",
       "      <td>1</td>\n",
       "      <td>Buyer beware</td>\n",
       "      <td>this is a self-published book, and if you want...</td>\n",
       "      <td>self-published book, want know why--read parag...</td>\n",
       "    </tr>\n",
       "    <tr>\n",
       "      <th>1</th>\n",
       "      <td>1</td>\n",
       "      <td>The Worst!</td>\n",
       "      <td>a complete waste of time. typographical errors...</td>\n",
       "      <td>complete waste time. typographical errors, poo...</td>\n",
       "    </tr>\n",
       "    <tr>\n",
       "      <th>2</th>\n",
       "      <td>1</td>\n",
       "      <td>Oh please</td>\n",
       "      <td>i guess you have to be a romance novel lover f...</td>\n",
       "      <td>guess romance novel lover one, discerning one....</td>\n",
       "    </tr>\n",
       "    <tr>\n",
       "      <th>3</th>\n",
       "      <td>1</td>\n",
       "      <td>Awful beyond belief!</td>\n",
       "      <td>i feel i have to write to keep others from was...</td>\n",
       "      <td>feel write keep others wasting money. book see...</td>\n",
       "    </tr>\n",
       "    <tr>\n",
       "      <th>4</th>\n",
       "      <td>1</td>\n",
       "      <td>Another Abysmal Digital Copy</td>\n",
       "      <td>rather than scratches and insect droppings, th...</td>\n",
       "      <td>rather scratches insect droppings, one random ...</td>\n",
       "    </tr>\n",
       "  </tbody>\n",
       "</table>\n",
       "</div>"
      ],
      "text/plain": [
       "   Rating                   ReviewTitle  \\\n",
       "0       1                  Buyer beware   \n",
       "1       1                    The Worst!   \n",
       "2       1                     Oh please   \n",
       "3       1          Awful beyond belief!   \n",
       "4       1  Another Abysmal Digital Copy   \n",
       "\n",
       "                                              Review  \\\n",
       "0  this is a self-published book, and if you want...   \n",
       "1  a complete waste of time. typographical errors...   \n",
       "2  i guess you have to be a romance novel lover f...   \n",
       "3  i feel i have to write to keep others from was...   \n",
       "4  rather than scratches and insect droppings, th...   \n",
       "\n",
       "                            review without stopwords  \n",
       "0  self-published book, want know why--read parag...  \n",
       "1  complete waste time. typographical errors, poo...  \n",
       "2  guess romance novel lover one, discerning one....  \n",
       "3  feel write keep others wasting money. book see...  \n",
       "4  rather scratches insect droppings, one random ...  "
      ]
     },
     "execution_count": 7,
     "metadata": {},
     "output_type": "execute_result"
    }
   ],
   "source": [
    "data_without_stopwords.head()"
   ]
  },
  {
   "cell_type": "code",
   "execution_count": 8,
   "metadata": {},
   "outputs": [],
   "source": [
    "data_without_stopwords['clean_review']= data_without_stopwords['review without stopwords'].apply(lambda cw : remove_tags(cw))\n",
    "data_without_stopwords['clean_review'] = data_without_stopwords['clean_review'].str.replace('[{}]'.format(string.punctuation), ' ')\n"
   ]
  },
  {
   "cell_type": "code",
   "execution_count": 9,
   "metadata": {},
   "outputs": [],
   "source": [
    "\n",
    "reviews_list = []\n",
    "for i in range(len(data_without_stopwords.clean_review)):\n",
    "    reviews_list.append(data_without_stopwords.clean_review[i])\n",
    " \n",
    "sentiment = data_without_stopwords['Rating']"
   ]
  },
  {
   "cell_type": "code",
   "execution_count": 17,
   "metadata": {},
   "outputs": [],
   "source": [
    "from sklearn.model_selection import train_test_split\n",
    "X_train, X_test,Y_train, Y_test = train_test_split(reviews_list, sentiment, test_size=0.3, random_state = 45)\n"
   ]
  },
  {
   "cell_type": "code",
   "execution_count": 18,
   "metadata": {},
   "outputs": [
    {
     "data": {
      "text/plain": [
       "7000"
      ]
     },
     "execution_count": 18,
     "metadata": {},
     "output_type": "execute_result"
    }
   ],
   "source": [
    "len(X_train)"
   ]
  },
  {
   "cell_type": "code",
   "execution_count": 19,
   "metadata": {},
   "outputs": [
    {
     "data": {
      "text/plain": [
       "3    627\n",
       "1    614\n",
       "2    600\n",
       "4    593\n",
       "5    566\n",
       "Name: Rating, dtype: int64"
      ]
     },
     "execution_count": 19,
     "metadata": {},
     "output_type": "execute_result"
    }
   ],
   "source": [
    "Y_test.value_counts()"
   ]
  },
  {
   "cell_type": "code",
   "execution_count": 20,
   "metadata": {},
   "outputs": [],
   "source": [
    "tokenizer = Tokenizer(num_words=5000)\n",
    "tokenizer.fit_on_texts(X_train)\n",
    "\n",
    "words_to_index = tokenizer.word_index"
   ]
  },
  {
   "cell_type": "code",
   "execution_count": 21,
   "metadata": {},
   "outputs": [],
   "source": [
    "def read_glove_vector(glove_vec):\n",
    "    with open(glove_vec, 'r', encoding='UTF-8') as f:\n",
    "        words = set()\n",
    "        word_to_vec_map = {}\n",
    "        for line in f:\n",
    "            w_line = line.split()\n",
    "            curr_word = w_line[0]\n",
    "            word_to_vec_map[curr_word] = np.array(w_line[1:], dtype=np.float64)\n",
    "    return word_to_vec_map"
   ]
  },
  {
   "cell_type": "code",
   "execution_count": 22,
   "metadata": {},
   "outputs": [],
   "source": [
    "word_to_vec_map = read_glove_vector('/Users/shinjini/Downloads/glove/glove.6B.50d.txt')\n"
   ]
  },
  {
   "cell_type": "code",
   "execution_count": 23,
   "metadata": {},
   "outputs": [],
   "source": [
    "maxLen = 150\n"
   ]
  },
  {
   "cell_type": "code",
   "execution_count": 24,
   "metadata": {},
   "outputs": [],
   "source": [
    "vocab_len = len(words_to_index)\n",
    "embed_vector_len = word_to_vec_map['tuition'].shape[0]\n",
    "\n"
   ]
  },
  {
   "cell_type": "code",
   "execution_count": 25,
   "metadata": {},
   "outputs": [
    {
     "data": {
      "text/plain": [
       "50"
      ]
     },
     "execution_count": 25,
     "metadata": {},
     "output_type": "execute_result"
    }
   ],
   "source": [
    "vocab_len\n",
    "embed_vector_len"
   ]
  },
  {
   "cell_type": "code",
   "execution_count": null,
   "metadata": {},
   "outputs": [],
   "source": []
  },
  {
   "cell_type": "code",
   "execution_count": 26,
   "metadata": {},
   "outputs": [
    {
     "data": {
      "text/plain": [
       "25890"
      ]
     },
     "execution_count": 26,
     "metadata": {},
     "output_type": "execute_result"
    }
   ],
   "source": [
    "len(words_to_index)"
   ]
  },
  {
   "cell_type": "code",
   "execution_count": null,
   "metadata": {},
   "outputs": [],
   "source": []
  },
  {
   "cell_type": "code",
   "execution_count": 27,
   "metadata": {},
   "outputs": [],
   "source": [
    "emb_matrix = np.zeros((vocab_len, embed_vector_len))\n",
    "\n",
    "for word, index in words_to_index.items():\n",
    "    embedding_vector = word_to_vec_map.get(word)\n",
    "    if embedding_vector is not None:\n",
    "        emb_matrix[i] = embedding_vector\n",
    "\n",
    "embedding_layer = Embedding(input_dim=vocab_len, output_dim=embed_vector_len, input_length=maxLen, weights = [emb_matrix], trainable=False)"
   ]
  },
  {
   "cell_type": "code",
   "execution_count": null,
   "metadata": {},
   "outputs": [],
   "source": []
  },
  {
   "cell_type": "code",
   "execution_count": null,
   "metadata": {},
   "outputs": [],
   "source": []
  },
  {
   "cell_type": "code",
   "execution_count": 28,
   "metadata": {},
   "outputs": [],
   "source": [
    "def amazon_rating(input_shape):\n",
    "    X_indices = Input(input_shape)\n",
    "    embeddings = embedding_layer(X_indices)\n",
    "    X = LSTM(128, return_sequences=True)(embeddings)\n",
    "    X = Dropout(0.1)(X)\n",
    "    X = LSTM(128, return_sequences=True)(X)\n",
    "    X = Dropout(0.1)(X)\n",
    "    X = LSTM(128)(X)\n",
    "    X = Dense(5, activation='softmax')(X)\n",
    "    model = Model(inputs=X_indices, outputs=X)\n",
    "    return model\n",
    "\n"
   ]
  },
  {
   "cell_type": "code",
   "execution_count": 29,
   "metadata": {},
   "outputs": [
    {
     "name": "stdout",
     "output_type": "stream",
     "text": [
      "Model: \"model\"\n",
      "_________________________________________________________________\n",
      "Layer (type)                 Output Shape              Param #   \n",
      "=================================================================\n",
      "input_1 (InputLayer)         [(None, 150)]             0         \n",
      "_________________________________________________________________\n",
      "embedding (Embedding)        (None, 150, 50)           1294500   \n",
      "_________________________________________________________________\n",
      "lstm (LSTM)                  (None, 150, 128)          91648     \n",
      "_________________________________________________________________\n",
      "dropout (Dropout)            (None, 150, 128)          0         \n",
      "_________________________________________________________________\n",
      "lstm_1 (LSTM)                (None, 150, 128)          131584    \n",
      "_________________________________________________________________\n",
      "dropout_1 (Dropout)          (None, 150, 128)          0         \n",
      "_________________________________________________________________\n",
      "lstm_2 (LSTM)                (None, 128)               131584    \n",
      "_________________________________________________________________\n",
      "dense (Dense)                (None, 5)                 645       \n",
      "=================================================================\n",
      "Total params: 1,649,961\n",
      "Trainable params: 355,461\n",
      "Non-trainable params: 1,294,500\n",
      "_________________________________________________________________\n"
     ]
    }
   ],
   "source": [
    "model = amazon_rating((maxLen,))\n",
    "model.summary()\n"
   ]
  },
  {
   "cell_type": "code",
   "execution_count": 30,
   "metadata": {},
   "outputs": [],
   "source": [
    "X_train_indices = tokenizer.texts_to_sequences(X_train)\n",
    "X_train_indices = pad_sequences(X_train_indices, maxlen=maxLen, padding='post')"
   ]
  },
  {
   "cell_type": "code",
   "execution_count": 31,
   "metadata": {},
   "outputs": [],
   "source": [
    "Y_train = pd.get_dummies(Y_train).values\n",
    "Y_test=pd.get_dummies(Y_test).values"
   ]
  },
  {
   "cell_type": "code",
   "execution_count": 32,
   "metadata": {},
   "outputs": [],
   "source": [
    "#Y.shape\n"
   ]
  },
  {
   "cell_type": "code",
   "execution_count": 33,
   "metadata": {},
   "outputs": [
    {
     "name": "stdout",
     "output_type": "stream",
     "text": [
      "Epoch 1/15\n",
      "55/55 [==============================] - 39s 646ms/step - loss: 1.6100 - accuracy: 0.1994\n",
      "Epoch 2/15\n",
      "55/55 [==============================] - 36s 656ms/step - loss: 1.6097 - accuracy: 0.1976\n",
      "Epoch 3/15\n",
      "55/55 [==============================] - 39s 706ms/step - loss: 1.6098 - accuracy: 0.1974\n",
      "Epoch 4/15\n",
      "55/55 [==============================] - 38s 686ms/step - loss: 1.6098 - accuracy: 0.1993\n",
      "Epoch 5/15\n",
      "55/55 [==============================] - 43s 780ms/step - loss: 1.6097 - accuracy: 0.2011\n",
      "Epoch 6/15\n",
      "55/55 [==============================] - 38s 692ms/step - loss: 1.6096 - accuracy: 0.2034\n",
      "Epoch 7/15\n",
      "55/55 [==============================] - 38s 700ms/step - loss: 1.6096 - accuracy: 0.2069\n",
      "Epoch 8/15\n",
      "55/55 [==============================] - 38s 700ms/step - loss: 1.6097 - accuracy: 0.1953\n",
      "Epoch 9/15\n",
      "55/55 [==============================] - 39s 709ms/step - loss: 1.6096 - accuracy: 0.2049\n",
      "Epoch 10/15\n",
      "55/55 [==============================] - 39s 713ms/step - loss: 1.6095 - accuracy: 0.2049\n",
      "Epoch 11/15\n",
      "55/55 [==============================] - 39s 714ms/step - loss: 1.6096 - accuracy: 0.2049\n",
      "Epoch 12/15\n",
      "55/55 [==============================] - 39s 711ms/step - loss: 1.6095 - accuracy: 0.2049\n",
      "Epoch 13/15\n",
      "55/55 [==============================] - 39s 715ms/step - loss: 1.6095 - accuracy: 0.2049\n",
      "Epoch 14/15\n",
      "55/55 [==============================] - 40s 721ms/step - loss: 1.6095 - accuracy: 0.2049\n",
      "Epoch 15/15\n",
      "55/55 [==============================] - 39s 716ms/step - loss: 1.6096 - accuracy: 0.2004\n"
     ]
    },
    {
     "data": {
      "text/plain": [
       "<keras.callbacks.History at 0x7fb0cbd07520>"
      ]
     },
     "execution_count": 33,
     "metadata": {},
     "output_type": "execute_result"
    }
   ],
   "source": [
    "model.compile(optimizer='adam', loss='categorical_crossentropy', metrics=['accuracy'])\n",
    "\n",
    "model.fit(X_train_indices, Y_train, batch_size=128, epochs=15)"
   ]
  },
  {
   "cell_type": "code",
   "execution_count": null,
   "metadata": {},
   "outputs": [],
   "source": []
  },
  {
   "cell_type": "code",
   "execution_count": 38,
   "metadata": {},
   "outputs": [],
   "source": [
    "#testdata=pd.read_csv(\"test.csv\")"
   ]
  },
  {
   "cell_type": "code",
   "execution_count": 39,
   "metadata": {},
   "outputs": [
    {
     "data": {
      "text/html": [
       "<div>\n",
       "<style scoped>\n",
       "    .dataframe tbody tr th:only-of-type {\n",
       "        vertical-align: middle;\n",
       "    }\n",
       "\n",
       "    .dataframe tbody tr th {\n",
       "        vertical-align: top;\n",
       "    }\n",
       "\n",
       "    .dataframe thead th {\n",
       "        text-align: right;\n",
       "    }\n",
       "</style>\n",
       "<table border=\"1\" class=\"dataframe\">\n",
       "  <thead>\n",
       "    <tr style=\"text-align: right;\">\n",
       "      <th></th>\n",
       "      <th>Rating</th>\n",
       "      <th>ReviewTitle</th>\n",
       "      <th>Review</th>\n",
       "      <th>review without stopwords</th>\n",
       "      <th>clean_review</th>\n",
       "    </tr>\n",
       "  </thead>\n",
       "  <tbody>\n",
       "    <tr>\n",
       "      <th>0</th>\n",
       "      <td>1</td>\n",
       "      <td>Buyer beware</td>\n",
       "      <td>this is a self-published book, and if you want...</td>\n",
       "      <td>self-published book, want know why--read parag...</td>\n",
       "      <td>self published book  want know why  read parag...</td>\n",
       "    </tr>\n",
       "    <tr>\n",
       "      <th>1</th>\n",
       "      <td>1</td>\n",
       "      <td>The Worst!</td>\n",
       "      <td>a complete waste of time. typographical errors...</td>\n",
       "      <td>complete waste time. typographical errors, poo...</td>\n",
       "      <td>complete waste time  typographical errors  poo...</td>\n",
       "    </tr>\n",
       "    <tr>\n",
       "      <th>2</th>\n",
       "      <td>1</td>\n",
       "      <td>Oh please</td>\n",
       "      <td>i guess you have to be a romance novel lover f...</td>\n",
       "      <td>guess romance novel lover one, discerning one....</td>\n",
       "      <td>guess romance novel lover one  discerning one ...</td>\n",
       "    </tr>\n",
       "    <tr>\n",
       "      <th>3</th>\n",
       "      <td>1</td>\n",
       "      <td>Awful beyond belief!</td>\n",
       "      <td>i feel i have to write to keep others from was...</td>\n",
       "      <td>feel write keep others wasting money. book see...</td>\n",
       "      <td>feel write keep others wasting money  book see...</td>\n",
       "    </tr>\n",
       "    <tr>\n",
       "      <th>4</th>\n",
       "      <td>1</td>\n",
       "      <td>Another Abysmal Digital Copy</td>\n",
       "      <td>rather than scratches and insect droppings, th...</td>\n",
       "      <td>rather scratches insect droppings, one random ...</td>\n",
       "      <td>rather scratches insect droppings  one random ...</td>\n",
       "    </tr>\n",
       "  </tbody>\n",
       "</table>\n",
       "</div>"
      ],
      "text/plain": [
       "   Rating                   ReviewTitle  \\\n",
       "0       1                  Buyer beware   \n",
       "1       1                    The Worst!   \n",
       "2       1                     Oh please   \n",
       "3       1          Awful beyond belief!   \n",
       "4       1  Another Abysmal Digital Copy   \n",
       "\n",
       "                                              Review  \\\n",
       "0  this is a self-published book, and if you want...   \n",
       "1  a complete waste of time. typographical errors...   \n",
       "2  i guess you have to be a romance novel lover f...   \n",
       "3  i feel i have to write to keep others from was...   \n",
       "4  rather than scratches and insect droppings, th...   \n",
       "\n",
       "                            review without stopwords  \\\n",
       "0  self-published book, want know why--read parag...   \n",
       "1  complete waste time. typographical errors, poo...   \n",
       "2  guess romance novel lover one, discerning one....   \n",
       "3  feel write keep others wasting money. book see...   \n",
       "4  rather scratches insect droppings, one random ...   \n",
       "\n",
       "                                        clean_review  \n",
       "0  self published book  want know why  read parag...  \n",
       "1  complete waste time  typographical errors  poo...  \n",
       "2  guess romance novel lover one  discerning one ...  \n",
       "3  feel write keep others wasting money  book see...  \n",
       "4  rather scratches insect droppings  one random ...  "
      ]
     },
     "execution_count": 39,
     "metadata": {},
     "output_type": "execute_result"
    }
   ],
   "source": [
    "#df.head()\n"
   ]
  },
  {
   "cell_type": "code",
   "execution_count": null,
   "metadata": {},
   "outputs": [],
   "source": [
    "test"
   ]
  }
 ],
 "metadata": {
  "kernelspec": {
   "display_name": "Python 3",
   "language": "python",
   "name": "python3"
  },
  "language_info": {
   "codemirror_mode": {
    "name": "ipython",
    "version": 3
   },
   "file_extension": ".py",
   "mimetype": "text/x-python",
   "name": "python",
   "nbconvert_exporter": "python",
   "pygments_lexer": "ipython3",
   "version": "3.8.3"
  }
 },
 "nbformat": 4,
 "nbformat_minor": 4
}
